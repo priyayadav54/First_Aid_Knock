{
 "cells": [
  {
   "metadata": {},
   "cell_type": "markdown",
   "source": "First_Aid_Knock",
   "id": "eb30b30e46015b8b"
  },
  {
   "metadata": {
    "ExecuteTime": {
     "end_time": "2025-07-02T12:21:42.280775Z",
     "start_time": "2025-07-02T12:21:41.609431Z"
    }
   },
   "cell_type": "code",
   "source": [
    "import pandas as pd\n",
    "df = pd.read_csv('data/medicine_details.csv')"
   ],
   "id": "127c8c787b852f71",
   "outputs": [],
   "execution_count": 1
  },
  {
   "metadata": {
    "ExecuteTime": {
     "end_time": "2025-07-02T12:21:53.896665Z",
     "start_time": "2025-07-02T12:21:53.794859Z"
    }
   },
   "cell_type": "code",
   "source": [
    "print(df.head()) # See the first few rows\n",
    "print(df.info()) # Check data types and non-null counts\n",
    "print(df.shape)  # Get number of rows and columns\n",
    "print(df.columns) # See column names"
   ],
   "id": "e1a33059273a3552",
   "outputs": [
    {
     "name": "stdout",
     "output_type": "stream",
     "text": [
      "              Medicine Name  \\\n",
      "0   Avastin 400mg Injection   \n",
      "1  Augmentin 625 Duo Tablet   \n",
      "2       Azithral 500 Tablet   \n",
      "3          Ascoril LS Syrup   \n",
      "4         Aciloc 150 Tablet   \n",
      "\n",
      "                                         Composition  \\\n",
      "0                                Bevacizumab (400mg)   \n",
      "1    Amoxycillin  (500mg) +  Clavulanic Acid (125mg)   \n",
      "2                               Azithromycin (500mg)   \n",
      "3  Ambroxol (30mg/5ml) + Levosalbutamol (1mg/5ml)...   \n",
      "4                                 Ranitidine (150mg)   \n",
      "\n",
      "                                                Uses  \\\n",
      "0   Cancer of colon and rectum Non-small cell lun...   \n",
      "1                  Treatment of Bacterial infections   \n",
      "2                  Treatment of Bacterial infections   \n",
      "3                      Treatment of Cough with mucus   \n",
      "4  Treatment of Gastroesophageal reflux disease (...   \n",
      "\n",
      "                                        Side_effects  \\\n",
      "0  Rectal bleeding Taste change Headache Noseblee...   \n",
      "1  Vomiting Nausea Diarrhea Mucocutaneous candidi...   \n",
      "2                     Nausea Abdominal pain Diarrhea   \n",
      "3  Nausea Vomiting Diarrhea Upset stomach Stomach...   \n",
      "4     Headache Diarrhea Gastrointestinal disturbance   \n",
      "\n",
      "                                           Image URL  \\\n",
      "0  https://onemg.gumlet.io/l_watermark_346,w_480,...   \n",
      "1  https://onemg.gumlet.io/l_watermark_346,w_480,...   \n",
      "2  https://onemg.gumlet.io/l_watermark_346,w_480,...   \n",
      "3  https://onemg.gumlet.io/l_watermark_346,w_480,...   \n",
      "4  https://onemg.gumlet.io/l_watermark_346,w_480,...   \n",
      "\n",
      "                           Manufacturer  Excellent Review %  Average Review %  \\\n",
      "0          Roche Products India Pvt Ltd                  22                56   \n",
      "1  Glaxo SmithKline Pharmaceuticals Ltd                  47                35   \n",
      "2           Alembic Pharmaceuticals Ltd                  39                40   \n",
      "3          Glenmark Pharmaceuticals Ltd                  24                41   \n",
      "4            Cadila Pharmaceuticals Ltd                  34                37   \n",
      "\n",
      "   Poor Review %  \n",
      "0             22  \n",
      "1             18  \n",
      "2             21  \n",
      "3             35  \n",
      "4             29  \n",
      "<class 'pandas.core.frame.DataFrame'>\n",
      "RangeIndex: 11825 entries, 0 to 11824\n",
      "Data columns (total 9 columns):\n",
      " #   Column              Non-Null Count  Dtype \n",
      "---  ------              --------------  ----- \n",
      " 0   Medicine Name       11825 non-null  object\n",
      " 1   Composition         11825 non-null  object\n",
      " 2   Uses                11825 non-null  object\n",
      " 3   Side_effects        11825 non-null  object\n",
      " 4   Image URL           11825 non-null  object\n",
      " 5   Manufacturer        11825 non-null  object\n",
      " 6   Excellent Review %  11825 non-null  int64 \n",
      " 7   Average Review %    11825 non-null  int64 \n",
      " 8   Poor Review %       11825 non-null  int64 \n",
      "dtypes: int64(3), object(6)\n",
      "memory usage: 831.6+ KB\n",
      "None\n",
      "(11825, 9)\n",
      "Index(['Medicine Name', 'Composition', 'Uses', 'Side_effects', 'Image URL',\n",
      "       'Manufacturer', 'Excellent Review %', 'Average Review %',\n",
      "       'Poor Review %'],\n",
      "      dtype='object')\n"
     ]
    }
   ],
   "execution_count": 2
  },
  {
   "metadata": {
    "ExecuteTime": {
     "end_time": "2025-07-02T12:22:10.798481Z",
     "start_time": "2025-07-02T12:22:10.784126Z"
    }
   },
   "cell_type": "code",
   "source": [
    "df.columns = df.columns.str.strip().str.lower().str.replace(' ', '_').str.replace('[^a-z0-9_]', '', regex=True)\n",
    "print(df.columns) # Verify cleaned names"
   ],
   "id": "2bdaed36fff4a0d1",
   "outputs": [
    {
     "name": "stdout",
     "output_type": "stream",
     "text": [
      "Index(['medicine_name', 'composition', 'uses', 'side_effects', 'image_url',\n",
      "       'manufacturer', 'excellent_review_', 'average_review_', 'poor_review_'],\n",
      "      dtype='object')\n"
     ]
    }
   ],
   "execution_count": 3
  },
  {
   "metadata": {
    "ExecuteTime": {
     "end_time": "2025-07-02T12:22:24.583986Z",
     "start_time": "2025-07-02T12:22:24.558861Z"
    }
   },
   "cell_type": "code",
   "source": "print(df.isnull().sum())",
   "id": "9c04240613cf09dd",
   "outputs": [
    {
     "name": "stdout",
     "output_type": "stream",
     "text": [
      "medicine_name        0\n",
      "composition          0\n",
      "uses                 0\n",
      "side_effects         0\n",
      "image_url            0\n",
      "manufacturer         0\n",
      "excellent_review_    0\n",
      "average_review_      0\n",
      "poor_review_         0\n",
      "dtype: int64\n"
     ]
    }
   ],
   "execution_count": 4
  },
  {
   "metadata": {
    "ExecuteTime": {
     "end_time": "2025-07-02T12:22:38.226254Z",
     "start_time": "2025-07-02T12:22:38.203356Z"
    }
   },
   "cell_type": "code",
   "source": [
    "for col in ['uses', 'side_effects', 'composition', 'medicine_name', 'category']: # Adjust columns as per your CSV\n",
    "    if col in df.columns:\n",
    "        df[col] = df[col].fillna('') # Fill with empty string"
   ],
   "id": "bb33eafb5185bce3",
   "outputs": [],
   "execution_count": 5
  },
  {
   "metadata": {
    "ExecuteTime": {
     "end_time": "2025-07-02T12:22:48.552938Z",
     "start_time": "2025-07-02T12:22:48.506173Z"
    }
   },
   "cell_type": "code",
   "source": "print(f\"Number of duplicate rows before: {df.duplicated().sum()}\")",
   "id": "61843747d1c91eef",
   "outputs": [
    {
     "name": "stdout",
     "output_type": "stream",
     "text": [
      "Number of duplicate rows before: 84\n"
     ]
    }
   ],
   "execution_count": 6
  },
  {
   "metadata": {
    "ExecuteTime": {
     "end_time": "2025-07-02T12:23:00.564994Z",
     "start_time": "2025-07-02T12:23:00.483491Z"
    }
   },
   "cell_type": "code",
   "source": [
    "df.drop_duplicates(inplace=True)\n",
    "print(f\"Number of duplicate rows after: {df.duplicated().sum()}\")\n",
    "print(f\"New shape after dropping duplicates: {df.shape}\")"
   ],
   "id": "76a17b6a22ec0127",
   "outputs": [
    {
     "name": "stdout",
     "output_type": "stream",
     "text": [
      "Number of duplicate rows after: 0\n",
      "New shape after dropping duplicates: (11741, 9)\n"
     ]
    }
   ],
   "execution_count": 7
  },
  {
   "metadata": {
    "ExecuteTime": {
     "end_time": "2025-07-02T12:23:35.947623Z",
     "start_time": "2025-07-02T12:23:35.886069Z"
    }
   },
   "cell_type": "code",
   "source": [
    "# For all relevant text columns\n",
    "for col in ['uses', 'side_effects', 'composition', 'medicine_name', 'category']:\n",
    "    if col in df.columns:\n",
    "        df[col] = df[col].astype(str).str.lower().str.strip()"
   ],
   "id": "95199e45e1827479",
   "outputs": [],
   "execution_count": 8
  },
  {
   "metadata": {
    "ExecuteTime": {
     "end_time": "2025-07-02T12:23:52.079997Z",
     "start_time": "2025-07-02T12:23:52.075109Z"
    }
   },
   "cell_type": "code",
   "source": [
    "if 'category' in df.columns:\n",
    "    print(\"\\nTop 10 Categories:\")\n",
    "    print(df['category'].value_counts().head(10))\n",
    "\n",
    "# For 'uses' column, you might want to analyze individual words\n",
    "# This requires text preprocessing first (tokenization, stop word removal)"
   ],
   "id": "8482204c4848a760",
   "outputs": [],
   "execution_count": 9
  },
  {
   "metadata": {
    "ExecuteTime": {
     "end_time": "2025-07-02T12:24:04.873753Z",
     "start_time": "2025-07-02T12:24:04.847775Z"
    }
   },
   "cell_type": "code",
   "source": [
    "if 'uses' in df.columns:\n",
    "    df['uses_length'] = df['uses'].apply(len)\n",
    "    print(\"\\nUses Text Length Description:\")\n",
    "    print(df['uses_length'].describe())"
   ],
   "id": "b6e888b098ba26fa",
   "outputs": [
    {
     "name": "stdout",
     "output_type": "stream",
     "text": [
      "\n",
      "Uses Text Length Description:\n",
      "count    11741.000000\n",
      "mean        44.989268\n",
      "std         35.974751\n",
      "min          4.000000\n",
      "25%         24.000000\n",
      "50%         35.000000\n",
      "75%         53.000000\n",
      "max        483.000000\n",
      "Name: uses_length, dtype: float64\n"
     ]
    }
   ],
   "execution_count": 10
  },
  {
   "metadata": {
    "ExecuteTime": {
     "end_time": "2025-07-02T12:44:32.548373Z",
     "start_time": "2025-07-02T12:44:31.036930Z"
    }
   },
   "cell_type": "code",
   "source": [
    "# Example for 'uses' (requires NLTK installation: pip install nltk)\n",
    "import nltk\n",
    "from nltk.corpus import stopwords\n",
    "from collections import Counter\n",
    "\n",
    "# Download stopwords if not already downloaded\n",
    "# nltk.download('stopwords')\n",
    "# nltk.download('punkt') # For word_tokenize\n",
    "\n",
    "stop_words = set(stopwords.words('english'))\n",
    "\n",
    "def analyze_text_column(df_col):\n",
    "    all_words = []\n",
    "    for text in df_col.astype(str): # Ensure text is string\n",
    "        tokens = nltk.word_tokenize(text.lower())\n",
    "        filtered_words = [word for word in tokens if word.isalpha() and word not in stop_words]\n",
    "        all_words.extend(filtered_words)\n",
    "    return Counter(all_words).most_common(20) # Top 20 most common words\n",
    "\n",
    "if 'uses' in df.columns:\n",
    "    print(\"\\nMost common words in 'uses' column (excluding stopwords):\")\n",
    "    print(analyze_text_column(df['uses']))\n",
    "\n",
    "if 'side_effects' in df.columns:\n",
    "    print(\"\\nMost common words in 'side_effects' column (excluding stopwords):\")\n",
    "    print(analyze_text_column(df['side_effects']))"
   ],
   "id": "ab4d2bd3fd9aa3b0",
   "outputs": [
    {
     "name": "stdout",
     "output_type": "stream",
     "text": [
      "\n",
      "Most common words in 'uses' column (excluding stopwords):\n",
      "[('treatment', 8286), ('infections', 1769), ('high', 1579), ('pain', 1410), ('blood', 1336), ('hypertension', 1320), ('pressure', 1236), ('disease', 1159), ('heart', 1129), ('diabetes', 1019), ('prevention', 1018), ('bacterial', 944), ('type', 923), ('mellitus', 920), ('skin', 911), ('reflux', 826), ('fungal', 754), ('attack', 664), ('due', 466), ('allergic', 451)]\n",
      "\n",
      "Most common words in 'side_effects' column (excluding stopwords):\n",
      "[('pain', 6346), ('nausea', 6170), ('headache', 5336), ('diarrhea', 4520), ('blood', 4145), ('dizziness', 4035), ('vomiting', 3473), ('increased', 2853), ('stomach', 2353), ('abdominal', 2216), ('skin', 2214), ('level', 2028), ('itching', 1994), ('site', 1792), ('rash', 1780), ('sleepiness', 1776), ('constipation', 1683), ('irritation', 1627), ('infection', 1578), ('redness', 1563)]\n"
     ]
    }
   ],
   "execution_count": 12
  },
  {
   "metadata": {},
   "cell_type": "code",
   "outputs": [],
   "execution_count": null,
   "source": "",
   "id": "4547e8b32616ac44"
  }
 ],
 "metadata": {
  "kernelspec": {
   "display_name": "Python 3",
   "language": "python",
   "name": "python3"
  },
  "language_info": {
   "codemirror_mode": {
    "name": "ipython",
    "version": 2
   },
   "file_extension": ".py",
   "mimetype": "text/x-python",
   "name": "python",
   "nbconvert_exporter": "python",
   "pygments_lexer": "ipython2",
   "version": "2.7.6"
  }
 },
 "nbformat": 4,
 "nbformat_minor": 5
}
